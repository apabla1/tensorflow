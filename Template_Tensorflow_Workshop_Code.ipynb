{
 "cells": [
  {
   "cell_type": "markdown",
   "metadata": {
    "id": "5q6iPRSpP1sZ"
   },
   "source": [
    "First we will need to import tensorflow so that we can use it to train a machine learning model that can classify hand written digits.\n",
    "\n",
    "We will also import the tensorflow datasets library so that we can load our dataset.\n",
    "\n",
    "Finally, we import matplotlib, which we will use to display the images."
   ]
  },
  {
   "cell_type": "code",
   "execution_count": 28,
   "metadata": {
    "id": "9QkuxIfSPcyD"
   },
   "outputs": [],
   "source": [
    "import tensorflow as tf\n",
    "import tensorflow_datasets as tfds\n",
    "\n",
    "import matplotlib.pyplot as plt"
   ]
  },
  {
   "cell_type": "markdown",
   "metadata": {
    "id": "BD5cv3j5Qyxh"
   },
   "source": [
    "Let's load our data.\n",
    "\n",
    "We will use the function `tfds.load()` to get a nicely prepackaged and cleaned dataset. Let's take a look at the parameters we pass to this function.\n",
    "\n",
    "1. `'mnist`' - this downloads the MNIST dataset, which is the dataset we want. There are a lot of other datasets available but each of them require a different approach so we will focus on just mnist for today.\n",
    "2. `split=['train', 'test]` this splits our training data into two parts, a train set and a test set. The trainset has 60,000 examples and the test set has 10,000. This allows us to check our work\n",
    "3. `shuffle_files=True` will make sure we shuffle our data up. We don't want our nueral network to guess what digit it is looking at based on the previous number it looked at. If we didn't shuffle, the nueral network would just learn that if the last number it saw was a 5, for example, the next number must be 6, and so forth.\n",
    "4. `as_supervised=True` just makes the format of the data equivlant to a bunch of tuples of the form: `(image of digit, label of digit)`.\n",
    "5. `with_info` will grab some more info about the dataset for us to look at.\n",
    "\n",
    "\n",
    "\n",
    "Feel free to read up more about the MNIST dataset at this link: https://www.tensorflow.org/datasets/catalog/mnist or read more about it by running the cell below to see `dataset_info`."
   ]
  },
  {
   "cell_type": "code",
   "execution_count": 29,
   "metadata": {
    "colab": {
     "base_uri": "https://localhost:8080/",
     "height": 104,
     "referenced_widgets": [
      "4f8af1416a244b068debcb426111dc44",
      "5f02a06e2dcb40618f95d181c65fbdf0",
      "84dfff00206d429b991f13c8092cfa4e",
      "4af8699f45d64d6684b40b8fcc4f1450",
      "227e044e0e2e4c0daae3548abe30d5ae",
      "972e91eab2d54d8dad3122ff5b180026",
      "043fa240bfe34f098150c4855d735b0c",
      "d62d980865054413bf45c82a3b6aa0dc",
      "3320c74855b243ca90a667d0990c4c91",
      "8500f1e03ccd46078e2968a1685f12b0",
      "22fd33bf4d1e48efa7fb9637df9e23b0"
     ]
    },
    "id": "cU7Ew7nvQCvx",
    "outputId": "16da7419-d0ce-4e1e-aa07-77bae13518ae"
   },
   "outputs": [],
   "source": [
    "(dataset_train, dataset_test), dataset_info = tfds.load(\n",
    "    'mnist',\n",
    "    split=['train', 'test'],\n",
    "    shuffle_files=True,\n",
    "    as_supervised=True,\n",
    "    with_info=True,\n",
    ")"
   ]
  },
  {
   "cell_type": "code",
   "execution_count": 30,
   "metadata": {
    "colab": {
     "base_uri": "https://localhost:8080/"
    },
    "id": "PoVnA6WDYAgQ",
    "outputId": "f841c346-90e0-4656-dd20-c9e7e7825205"
   },
   "outputs": [
    {
     "data": {
      "text/plain": [
       "tfds.core.DatasetInfo(\n",
       "    name='mnist',\n",
       "    full_name='mnist/3.0.1',\n",
       "    description=\"\"\"\n",
       "    The MNIST database of handwritten digits.\n",
       "    \"\"\",\n",
       "    homepage='http://yann.lecun.com/exdb/mnist/',\n",
       "    data_dir='/home/aarav/tensorflow_datasets/mnist/3.0.1',\n",
       "    file_format=tfrecord,\n",
       "    download_size=11.06 MiB,\n",
       "    dataset_size=21.00 MiB,\n",
       "    features=FeaturesDict({\n",
       "        'image': Image(shape=(28, 28, 1), dtype=uint8),\n",
       "        'label': ClassLabel(shape=(), dtype=int64, num_classes=10),\n",
       "    }),\n",
       "    supervised_keys=('image', 'label'),\n",
       "    disable_shuffling=False,\n",
       "    splits={\n",
       "        'test': <SplitInfo num_examples=10000, num_shards=1>,\n",
       "        'train': <SplitInfo num_examples=60000, num_shards=1>,\n",
       "    },\n",
       "    citation=\"\"\"@article{lecun2010mnist,\n",
       "      title={MNIST handwritten digit database},\n",
       "      author={LeCun, Yann and Cortes, Corinna and Burges, CJ},\n",
       "      journal={ATT Labs [Online]. Available: http://yann.lecun.com/exdb/mnist},\n",
       "      volume={2},\n",
       "      year={2010}\n",
       "    }\"\"\",\n",
       ")"
      ]
     },
     "execution_count": 30,
     "metadata": {},
     "output_type": "execute_result"
    }
   ],
   "source": [
    "dataset_info"
   ]
  },
  {
   "cell_type": "markdown",
   "metadata": {
    "id": "X7YEXYfEUlB9"
   },
   "source": [
    "Next we are going to prepare our dataset so that we can use it to train our model.\n",
    "\n",
    "Let's first take a look at the first example in our dataset.\n",
    "The first element is a tuple, with two elements as you can see in the code cell below."
   ]
  },
  {
   "cell_type": "code",
   "execution_count": 31,
   "metadata": {
    "colab": {
     "base_uri": "https://localhost:8080/",
     "height": 502
    },
    "id": "y3Z7kjQjU_hU",
    "outputId": "fbbec3fc-3e14-4d36-aedc-4e1e0d19f25e"
   },
   "outputs": [
    {
     "name": "stdout",
     "output_type": "stream",
     "text": [
      "Each element in our dataset is of type: <class 'tuple'>\n",
      "The label of this element is: tf.Tensor(4, shape=(), dtype=int64)\n",
      "The shape of this image is: (28, 28, 1)\n"
     ]
    },
    {
     "name": "stderr",
     "output_type": "stream",
     "text": [
      "2024-11-07 18:54:37.003557: W tensorflow/core/kernels/data/cache_dataset_ops.cc:914] The calling iterator did not fully read the dataset being cached. In order to avoid unexpected truncation of the dataset, the partially cached contents of the dataset  will be discarded. This can happen if you have an input pipeline similar to `dataset.cache().take(k).repeat()`. You should use `dataset.take(k).cache().repeat()` instead.\n"
     ]
    },
    {
     "data": {
      "image/png": "[encoded data removed]",
      "text/plain": [
       "<Figure size 640x480 with 1 Axes>"
      ]
     },
     "metadata": {},
     "output_type": "display_data"
    }
   ],
   "source": [
    "for x in dataset_train:\n",
    "    img, label = x\n",
    "    plt.imshow(img[:,:,0], cmap='gray')\n",
    "\n",
    "    print(\"Each element in our dataset is of type:\", type(x))\n",
    "    print(\"The label of this element is:\", label)\n",
    "    print(\"The shape of this image is:\", img.shape)\n",
    "\n",
    "    break"
   ]
  },
  {
   "cell_type": "markdown",
   "metadata": {
    "id": "0I0x8OACXR3e"
   },
   "source": [
    "First we need to convert the data type of the images from unsigned 8-bit integers to 32-bit float. This is because the nueral network we will use expects 32-bit floats.\n",
    "\n",
    "Next we will devide the images by 255 because that will keep all the values in the image between 0 and 1 rather than between 0 and 255.\n",
    "Having smaller values allows training to go faster.\n",
    "\n",
    "We also batch our data. This means we split our 60,000 training examples into batches or groups of 128 examples and train on those. This allows our model to view 128 different images and their labels at once and learn from them all at the same time. This means it will be almost 128x as fast to train!"
   ]
  },
  {
   "cell_type": "code",
   "execution_count": 32,
   "metadata": {
    "id": "tEb2CDLVSjoy"
   },
   "outputs": [],
   "source": [
    "def normalize_img(image, label):\n",
    "    \"\"\"Normalizes images from unsigned 8-bit integers to 32-bit float.\n",
    "    Also scales all values to be between 0 and 1 rather than 0 and 255.\"\"\"\n",
    "    # rescale the image to be between 0 and 1 by dividing it by 255\n",
    "    ### YOUR CODE HERE ###\n",
    "    image = tf.cast(image, tf.float32)\n",
    "    image = image/255\n",
    "    \n",
    "    return image, label\n",
    "\n",
    "# apply our normalization function to our dataset\n",
    "dataset_train = dataset_train.map(normalize_img)\n",
    "\n",
    "# next we shuffle up our training data again\n",
    "dataset_train = dataset_train.shuffle(dataset_info.splits['train'].num_examples)\n",
    "\n",
    "# finally we batch our data to allow us to train faster\n",
    "dataset_train = dataset_train.batch(128)\n",
    "\n",
    "\n",
    "# do the same for our testing data. Make sure to normalize it and to batch it only\n",
    "# no need to shuffle.\n",
    "### YOUR CODE HERE ###\n",
    "dataset_test = dataset_test.map(normalize_img)\n",
    "### YOUR CODE HERE ###\n",
    "dataset_test = dataset_test.batch(128)"
   ]
  },
  {
   "cell_type": "markdown",
   "metadata": {
    "id": "TO3I6w_SZfgU"
   },
   "source": [
    "Time to make our model, the fun part!\n",
    "\n",
    "Our model is sequential. This means that data only flows one way. In other words, the model guesses what the image but its current guess doesn't affect its next guess.\n",
    "\n",
    "Next, we flatten the input to the model. This means we take our image that is 28 by 28 pixels and convert it to one long list that is 784 (28 x 28) long.\n",
    "\n",
    "Then we take that 784 long list and use that as input to our first dense, or fully connected layer. This layer has 128 nuerons, hence the 128. The relu activation is a function. Feel free to read more about it [here](https://en.wikipedia.org/wiki/Rectifier_(neural_networks)).\n",
    "\n",
    "Finally, we have one more dense layer which has 10 nuerons. This is our output layer. Each of these neurons in the output layer represent how likely a digit (numbered 0 through 9) is to be the number written in the input image. In other words, if the 0th nueron is the largest number, then 0 is the digit the model guesses is in the image."
   ]
  },
  {
   "cell_type": "code",
   "execution_count": 33,
   "metadata": {
    "colab": {
     "base_uri": "https://localhost:8080/"
    },
    "id": "QYVABpEWX8nx",
    "outputId": "3681df3a-d083-4af1-8760-7e42d385241d"
   },
   "outputs": [
    {
     "name": "stderr",
     "output_type": "stream",
     "text": [
      "/home/aarav/.local/lib/python3.10/site-packages/keras/src/layers/reshaping/flatten.py:37: UserWarning: Do not pass an `input_shape`/`input_dim` argument to a layer. When using Sequential models, prefer using an `Input(shape)` object as the first layer in the model instead.\n",
      "  super().__init__(**kwargs)\n"
     ]
    }
   ],
   "source": [
    "# You can create your own model by changing the numbers of neurons, adding more layers, and using different acitvation functions.\n",
    "# play around with it and see what accuracy you can acheieve in the next steps!\n",
    "\n",
    "model = tf.keras.models.Sequential([\n",
    "  tf.keras.layers.Flatten(input_shape=(28, 28)),\n",
    "  ### YOUR CODE HERE ###\n",
    "  tf.keras.layers.Dense(128, activation=\"relu\"),\n",
    "  tf.keras.layers.Dense(10)\n",
    "])"
   ]
  },
  {
   "cell_type": "markdown",
   "metadata": {
    "id": "n41Mm7-AoHlR"
   },
   "source": [
    "Now we will compile our model, which allows us to actually train our model.\n",
    "\n",
    "The optimizer is what looks at how accurate our model is and modifies the weights and biases to make our model more accurate. The loss parameter is a function that determines how inaccurate our model is on each prediction. The optimizer uses this value from the loss function to make tweaks."
   ]
  },
  {
   "cell_type": "code",
   "execution_count": 34,
   "metadata": {
    "id": "DSu54o3UZxxG"
   },
   "outputs": [],
   "source": [
    "model.compile(\n",
    "    optimizer=tf.keras.optimizers.Adam(0.001),\n",
    "    loss=tf.keras.losses.SparseCategoricalCrossentropy(from_logits=True),\n",
    "    metrics=[\"accuracy\"]\n",
    ")"
   ]
  },
  {
   "cell_type": "markdown",
   "metadata": {
    "id": "w21NQLCdsYZd"
   },
   "source": [
    "Let's check to see how accurate it is before we even start training. We can expect it to be somwhere around 10% accurate because there are 10 possible digits and the intial values in the model are assigned randomly.\n",
    "\n",
    "If you run the last few cells a few different times you will notice your accuracy is different everytime depending on what random values the model starts with."
   ]
  },
  {
   "cell_type": "code",
   "execution_count": 35,
   "metadata": {
    "colab": {
     "base_uri": "https://localhost:8080/"
    },
    "id": "-PJkX81nsOem",
    "outputId": "1c79f7a2-42da-4116-c3c8-df81b2dd36cc"
   },
   "outputs": [
    {
     "name": "stdout",
     "output_type": "stream",
     "text": [
      "\u001b[1m469/469\u001b[0m \u001b[32m━━━━━━━━━━━━━━━━━━━━\u001b[0m\u001b[37m\u001b[0m \u001b[1m2s\u001b[0m 859us/step - accuracy: 0.0816 - loss: 2.4923\n",
      "Our training loss and accuracy: [2.4921319484710693, 0.0820833370089531]\n",
      "\u001b[1m79/79\u001b[0m \u001b[32m━━━━━━━━━━━━━━━━━━━━\u001b[0m\u001b[37m\u001b[0m \u001b[1m0s\u001b[0m 3ms/step - accuracy: 0.0812 - loss: 2.4968\n",
      "Our testing loss and accuracy: [2.496687412261963, 0.0763000026345253]\n"
     ]
    }
   ],
   "source": [
    "results = model.evaluate(dataset_train)\n",
    "print(\"Our training loss and accuracy:\", results)\n",
    "\n",
    "results = model.evaluate(dataset_test)\n",
    "print(\"Our testing loss and accuracy:\", results)"
   ]
  },
  {
   "cell_type": "markdown",
   "metadata": {
    "id": "yL6odLswo03v"
   },
   "source": [
    "Finally, we can train our model. We will train it on our training dataset and we will check to see how accurate we are after each epoch using our testing dataset. It is important to remember that we only use the values in the training dataset to make improvements to our model and we will only use the testing dataset to see our accuracy.\n",
    "\n",
    "Each epoch is one complete use of the entire dataset to train. We will train on the entire dataset 8 times, after which we have acheieved a very high accuracy."
   ]
  },
  {
   "cell_type": "code",
   "execution_count": null,
   "metadata": {
    "colab": {
     "base_uri": "https://localhost:8080/"
    },
    "id": "VYrK4XftZx5R",
    "outputId": "88495db6-ea02-4a63-b63c-5a534fa4126b"
   },
   "outputs": [
    {
     "name": "stdout",
     "output_type": "stream",
     "text": [
      "Epoch 1/8\n",
      "\u001b[1m469/469\u001b[0m \u001b[32m━━━━━━━━━━━━━━━━━━━━\u001b[0m\u001b[37m\u001b[0m \u001b[1m3s\u001b[0m 3ms/step - accuracy: 0.8186 - loss: 0.6417 - val_accuracy: 0.9491 - val_loss: 0.1849\n",
      "Epoch 2/8\n",
      "\u001b[1m469/469\u001b[0m \u001b[32m━━━━━━━━━━━━━━━━━━━━\u001b[0m\u001b[37m\u001b[0m \u001b[1m2s\u001b[0m 2ms/step - accuracy: 0.9520 - loss: 0.1756 - val_accuracy: 0.9603 - val_loss: 0.1374\n",
      "Epoch 3/8\n",
      "\u001b[1m469/469\u001b[0m \u001b[32m━━━━━━━━━━━━━━━━━━━━\u001b[0m\u001b[37m\u001b[0m \u001b[1m3s\u001b[0m 3ms/step - accuracy: 0.9651 - loss: 0.1236 - val_accuracy: 0.9662 - val_loss: 0.1162\n",
      "Epoch 4/8\n",
      "\u001b[1m469/469\u001b[0m \u001b[32m━━━━━━━━━━━━━━━━━━━━\u001b[0m\u001b[37m\u001b[0m \u001b[1m2s\u001b[0m 2ms/step - accuracy: 0.9722 - loss: 0.0977 - val_accuracy: 0.9693 - val_loss: 0.0995\n",
      "Epoch 5/8\n",
      "\u001b[1m133/469\u001b[0m \u001b[32m━━━━━\u001b[0m\u001b[37m━━━━━━━━━━━━━━━\u001b[0m \u001b[1m0s\u001b[0m 2ms/step - accuracy: 0.9812 - loss: 0.0688"
     ]
    }
   ],
   "source": [
    "history = model.fit(\n",
    "    # which dataset should we use to train?\n",
    "    ### YOUR CODE HERE ###\n",
    "    dataset_train,\n",
    "    epochs=8,\n",
    "    validation_data=dataset_test,\n",
    ")"
   ]
  },
  {
   "cell_type": "markdown",
   "metadata": {
    "id": "oQpoJG9appLv"
   },
   "source": [
    "Can you guess why the accuracy from our training dataset is high than our testing dataset accuracy?"
   ]
  },
  {
   "cell_type": "code",
   "execution_count": null,
   "metadata": {
    "colab": {
     "base_uri": "https://localhost:8080/"
    },
    "id": "vmdm1cmCpsN0",
    "outputId": "7e1d68f2-7a95-4602-8118-d340dc349b46"
   },
   "outputs": [
    {
     "name": "stdout",
     "output_type": "stream",
     "text": [
      "\u001b[1m469/469\u001b[0m \u001b[32m━━━━━━━━━━━━━━━━━━━━\u001b[0m\u001b[37m\u001b[0m \u001b[1m2s\u001b[0m 968us/step - accuracy: 0.9909 - loss: 0.0347\n",
      "Our training loss and accuracy: [0.035320673137903214, 0.9908166527748108]\n",
      "\u001b[1m79/79\u001b[0m \u001b[32m━━━━━━━━━━━━━━━━━━━━\u001b[0m\u001b[37m\u001b[0m \u001b[1m0s\u001b[0m 3ms/step - accuracy: 0.9755 - loss: 0.0720\n",
      "Our testing loss and accuracy: [0.07346221059560776, 0.9763000011444092]\n"
     ]
    }
   ],
   "source": [
    "results = model.evaluate(dataset_train)\n",
    "print(\"Our training loss and accuracy:\", results)\n",
    "\n",
    "results = model.evaluate(dataset_test)\n",
    "print(\"Our testing loss and accuracy:\", results)"
   ]
  },
  {
   "cell_type": "markdown",
   "metadata": {
    "id": "XcQc68jFxOMQ"
   },
   "source": [
    "Now let's graph the history of the accuracy over each of the epochs.\n",
    "\n",
    "As you can see, our accuracy improves overtime, as does the validation accuracy.\n",
    "Even though our accuracy was only arround 10% before we started training, by the end of the 0th epoch, we already got to 90% accuracy."
   ]
  },
  {
   "cell_type": "code",
   "execution_count": null,
   "metadata": {
    "colab": {
     "base_uri": "https://localhost:8080/",
     "height": 492
    },
    "id": "hr4EAekMqiiL",
    "outputId": "349b5441-5070-4d0d-cc29-5ae2e9448b1e"
   },
   "outputs": [
    {
     "data": {
      "image/png": "[encoded data removed]",
      "text/plain": [
       "<Figure size 640x480 with 1 Axes>"
      ]
     },
     "metadata": {},
     "output_type": "display_data"
    }
   ],
   "source": [
    "plt.plot(history.history['accuracy'])\n",
    "plt.plot(history.history['val_accuracy'])\n",
    "plt.title('model accuracy')\n",
    "plt.ylabel('accuracy')\n",
    "plt.xlabel('epoch')\n",
    "plt.legend(['train', 'val'], loc='best')\n",
    "plt.show()"
   ]
  },
  {
   "cell_type": "markdown",
   "metadata": {
    "id": "fWwCquzvsycN"
   },
   "source": [
    "Now let's use our model to make predictions on our test set and display them.\n",
    "\n",
    "\n",
    "To do so, we first unbatch our test dataset so we only grab a random sample of 1 image and label at a time instead of 128 of them.\n",
    "\n",
    "Next we use the model to make a prediction on the image. We can print out that prediction but it isn't very useful to us humans yet. We need to first take the arg-max, or the index position of the maximum value of the prediction."
   ]
  },
  {
   "cell_type": "code",
   "execution_count": null,
   "metadata": {
    "id": "gp5ta8UJaUiJ"
   },
   "outputs": [],
   "source": [
    "dataset_test = dataset_test.unbatch()\n",
    "dataset_test = dataset_test.shuffle(buffer_size=dataset_info.splits['test'].num_examples)"
   ]
  },
  {
   "cell_type": "markdown",
   "metadata": {
    "id": "_EwIqSd4waf7"
   },
   "source": [
    "Feel free to run this as many times as you want to see different images and the model's predictions.\n",
    "Are there times when the model does better than you, or when you do better than it?\n"
   ]
  },
  {
   "cell_type": "code",
   "execution_count": null,
   "metadata": {
    "colab": {
     "base_uri": "https://localhost:8080/",
     "height": 589
    },
    "id": "poIfa55JtOjH",
    "outputId": "0d5af3b1-461e-4df9-bcb8-1ec67231f8f8"
   },
   "outputs": [
    {
     "name": "stdout",
     "output_type": "stream",
     "text": [
      "(1, 28, 28, 1) ()\n",
      "\u001b[1m1/1\u001b[0m \u001b[32m━━━━━━━━━━━━━━━━━━━━\u001b[0m\u001b[37m\u001b[0m \u001b[1m0s\u001b[0m 48ms/step\n",
      "This is the prediction without it being processed first:\n",
      " [[ -4.241317   -4.9771166  -1.5496925   7.0455275  -6.3212824  -1.0523757\n",
      "  -10.599745   -6.683697    1.0942185   1.22794  ]]\n",
      "\n",
      "The model's prediction for the image: 3\n",
      "The actual label: 3\n"
     ]
    },
    {
     "name": "stderr",
     "output_type": "stream",
     "text": [
      "2024-11-07 18:46:07.340701: I tensorflow/core/framework/local_rendezvous.cc:405] Local rendezvous is aborting with status: OUT_OF_RANGE: End of sequence\n"
     ]
    },
    {
     "data": {
      "image/png": "[encoded data removed]",
      "text/plain": [
       "<Figure size 640x480 with 1 Axes>"
      ]
     },
     "metadata": {},
     "output_type": "display_data"
    }
   ],
   "source": [
    "def random_prediction():\n",
    "    img, label = list(dataset_test.take(1))[0]\n",
    "    img = tf.reshape(img, (-1, 28, 28, 1))\n",
    "    print(img.shape, label.shape)\n",
    "\n",
    "    prediction = model.predict(img)\n",
    "    print(\"This is the prediction without it being processed first:\\n\", prediction)\n",
    "\n",
    "    processed_prediction = tf.math.argmax(prediction[0])\n",
    "\n",
    "    print(\"\\nThe model's prediction for the image:\", int(processed_prediction))\n",
    "    print(\"The actual label:\", int(label))\n",
    "    plt.imshow(img[0,:,:,0], cmap=\"gray\")\n",
    "\n",
    "\n",
    "random_prediction()"
   ]
  }
 ],
 "metadata": {
  "colab": {
   "provenance": []
  },
  "kernelspec": {
   "display_name": "Python 3",
   "name": "python3"
  },
  "language_info": {
   "codemirror_mode": {
    "name": "ipython",
    "version": 3
   },
   "file_extension": ".py",
   "mimetype": "text/x-python",
   "name": "python",
   "nbconvert_exporter": "python",
   "pygments_lexer": "ipython3",
   "version": "3.10.12"
  },
  "widgets": {
   "application/vnd.jupyter.widget-state+json": {
    "043fa240bfe34f098150c4855d735b0c": {
     "model_module": "@jupyter-widgets/controls",
     "model_module_version": "1.5.0",
     "model_name": "DescriptionStyleModel",
     "state": {
      "_model_module": "@jupyter-widgets/controls",
      "_model_module_version": "1.5.0",
      "_model_name": "DescriptionStyleModel",
      "_view_count": null,
      "_view_module": "@jupyter-widgets/base",
      "_view_module_version": "1.2.0",
      "_view_name": "StyleView",
      "description_width": ""
     }
    },
    "227e044e0e2e4c0daae3548abe30d5ae": {
     "model_module": "@jupyter-widgets/base",
     "model_module_version": "1.2.0",
     "model_name": "LayoutModel",
     "state": {
      "_model_module": "@jupyter-widgets/base",
      "_model_module_version": "1.2.0",
      "_model_name": "LayoutModel",
      "_view_count": null,
      "_view_module": "@jupyter-widgets/base",
      "_view_module_version": "1.2.0",
      "_view_name": "LayoutView",
      "align_content": null,
      "align_items": null,
      "align_self": null,
      "border": null,
      "bottom": null,
      "display": null,
      "flex": null,
      "flex_flow": null,
      "grid_area": null,
      "grid_auto_columns": null,
      "grid_auto_flow": null,
      "grid_auto_rows": null,
      "grid_column": null,
      "grid_gap": null,
      "grid_row": null,
      "grid_template_areas": null,
      "grid_template_columns": null,
      "grid_template_rows": null,
      "height": null,
      "justify_content": null,
      "justify_items": null,
      "left": null,
      "margin": null,
      "max_height": null,
      "max_width": null,
      "min_height": null,
      "min_width": null,
      "object_fit": null,
      "object_position": null,
      "order": null,
      "overflow": null,
      "overflow_x": null,
      "overflow_y": null,
      "padding": null,
      "right": null,
      "top": null,
      "visibility": null,
      "width": null
     }
    },
    "22fd33bf4d1e48efa7fb9637df9e23b0": {
     "model_module": "@jupyter-widgets/controls",
     "model_module_version": "1.5.0",
     "model_name": "DescriptionStyleModel",
     "state": {
      "_model_module": "@jupyter-widgets/controls",
      "_model_module_version": "1.5.0",
      "_model_name": "DescriptionStyleModel",
      "_view_count": null,
      "_view_module": "@jupyter-widgets/base",
      "_view_module_version": "1.2.0",
      "_view_name": "StyleView",
      "description_width": ""
     }
    },
    "3320c74855b243ca90a667d0990c4c91": {
     "model_module": "@jupyter-widgets/controls",
     "model_module_version": "1.5.0",
     "model_name": "ProgressStyleModel",
     "state": {
      "_model_module": "@jupyter-widgets/controls",
      "_model_module_version": "1.5.0",
      "_model_name": "ProgressStyleModel",
      "_view_count": null,
      "_view_module": "@jupyter-widgets/base",
      "_view_module_version": "1.2.0",
      "_view_name": "StyleView",
      "bar_color": null,
      "description_width": ""
     }
    },
    "4af8699f45d64d6684b40b8fcc4f1450": {
     "model_module": "@jupyter-widgets/controls",
     "model_module_version": "1.5.0",
     "model_name": "HTMLModel",
     "state": {
      "_dom_classes": [],
      "_model_module": "@jupyter-widgets/controls",
      "_model_module_version": "1.5.0",
      "_model_name": "HTMLModel",
      "_view_count": null,
      "_view_module": "@jupyter-widgets/controls",
      "_view_module_version": "1.5.0",
      "_view_name": "HTMLView",
      "description": "",
      "description_tooltip": null,
      "layout": "IPY_MODEL_8500f1e03ccd46078e2968a1685f12b0",
      "placeholder": "​",
      "style": "IPY_MODEL_22fd33bf4d1e48efa7fb9637df9e23b0",
      "value": " 5/5 [00:00&lt;00:00,  8.13 file/s]"
     }
    },
    "4f8af1416a244b068debcb426111dc44": {
     "model_module": "@jupyter-widgets/controls",
     "model_module_version": "1.5.0",
     "model_name": "HBoxModel",
     "state": {
      "_dom_classes": [],
      "_model_module": "@jupyter-widgets/controls",
      "_model_module_version": "1.5.0",
      "_model_name": "HBoxModel",
      "_view_count": null,
      "_view_module": "@jupyter-widgets/controls",
      "_view_module_version": "1.5.0",
      "_view_name": "HBoxView",
      "box_style": "",
      "children": [
       "IPY_MODEL_5f02a06e2dcb40618f95d181c65fbdf0",
       "IPY_MODEL_84dfff00206d429b991f13c8092cfa4e",
       "IPY_MODEL_4af8699f45d64d6684b40b8fcc4f1450"
      ],
      "layout": "IPY_MODEL_227e044e0e2e4c0daae3548abe30d5ae"
     }
    },
    "5f02a06e2dcb40618f95d181c65fbdf0": {
     "model_module": "@jupyter-widgets/controls",
     "model_module_version": "1.5.0",
     "model_name": "HTMLModel",
     "state": {
      "_dom_classes": [],
      "_model_module": "@jupyter-widgets/controls",
      "_model_module_version": "1.5.0",
      "_model_name": "HTMLModel",
      "_view_count": null,
      "_view_module": "@jupyter-widgets/controls",
      "_view_module_version": "1.5.0",
      "_view_name": "HTMLView",
      "description": "",
      "description_tooltip": null,
      "layout": "IPY_MODEL_972e91eab2d54d8dad3122ff5b180026",
      "placeholder": "​",
      "style": "IPY_MODEL_043fa240bfe34f098150c4855d735b0c",
      "value": "Dl Completed...: 100%"
     }
    },
    "84dfff00206d429b991f13c8092cfa4e": {
     "model_module": "@jupyter-widgets/controls",
     "model_module_version": "1.5.0",
     "model_name": "FloatProgressModel",
     "state": {
      "_dom_classes": [],
      "_model_module": "@jupyter-widgets/controls",
      "_model_module_version": "1.5.0",
      "_model_name": "FloatProgressModel",
      "_view_count": null,
      "_view_module": "@jupyter-widgets/controls",
      "_view_module_version": "1.5.0",
      "_view_name": "ProgressView",
      "bar_style": "success",
      "description": "",
      "description_tooltip": null,
      "layout": "IPY_MODEL_d62d980865054413bf45c82a3b6aa0dc",
      "max": 5,
      "min": 0,
      "orientation": "horizontal",
      "style": "IPY_MODEL_3320c74855b243ca90a667d0990c4c91",
      "value": 5
     }
    },
    "8500f1e03ccd46078e2968a1685f12b0": {
     "model_module": "@jupyter-widgets/base",
     "model_module_version": "1.2.0",
     "model_name": "LayoutModel",
     "state": {
      "_model_module": "@jupyter-widgets/base",
      "_model_module_version": "1.2.0",
      "_model_name": "LayoutModel",
      "_view_count": null,
      "_view_module": "@jupyter-widgets/base",
      "_view_module_version": "1.2.0",
      "_view_name": "LayoutView",
      "align_content": null,
      "align_items": null,
      "align_self": null,
      "border": null,
      "bottom": null,
      "display": null,
      "flex": null,
      "flex_flow": null,
      "grid_area": null,
      "grid_auto_columns": null,
      "grid_auto_flow": null,
      "grid_auto_rows": null,
      "grid_column": null,
      "grid_gap": null,
      "grid_row": null,
      "grid_template_areas": null,
      "grid_template_columns": null,
      "grid_template_rows": null,
      "height": null,
      "justify_content": null,
      "justify_items": null,
      "left": null,
      "margin": null,
      "max_height": null,
      "max_width": null,
      "min_height": null,
      "min_width": null,
      "object_fit": null,
      "object_position": null,
      "order": null,
      "overflow": null,
      "overflow_x": null,
      "overflow_y": null,
      "padding": null,
      "right": null,
      "top": null,
      "visibility": null,
      "width": null
     }
    },
    "972e91eab2d54d8dad3122ff5b180026": {
     "model_module": "@jupyter-widgets/base",
     "model_module_version": "1.2.0",
     "model_name": "LayoutModel",
     "state": {
      "_model_module": "@jupyter-widgets/base",
      "_model_module_version": "1.2.0",
      "_model_name": "LayoutModel",
      "_view_count": null,
      "_view_module": "@jupyter-widgets/base",
      "_view_module_version": "1.2.0",
      "_view_name": "LayoutView",
      "align_content": null,
      "align_items": null,
      "align_self": null,
      "border": null,
      "bottom": null,
      "display": null,
      "flex": null,
      "flex_flow": null,
      "grid_area": null,
      "grid_auto_columns": null,
      "grid_auto_flow": null,
      "grid_auto_rows": null,
      "grid_column": null,
      "grid_gap": null,
      "grid_row": null,
      "grid_template_areas": null,
      "grid_template_columns": null,
      "grid_template_rows": null,
      "height": null,
      "justify_content": null,
      "justify_items": null,
      "left": null,
      "margin": null,
      "max_height": null,
      "max_width": null,
      "min_height": null,
      "min_width": null,
      "object_fit": null,
      "object_position": null,
      "order": null,
      "overflow": null,
      "overflow_x": null,
      "overflow_y": null,
      "padding": null,
      "right": null,
      "top": null,
      "visibility": null,
      "width": null
     }
    },
    "d62d980865054413bf45c82a3b6aa0dc": {
     "model_module": "@jupyter-widgets/base",
     "model_module_version": "1.2.0",
     "model_name": "LayoutModel",
     "state": {
      "_model_module": "@jupyter-widgets/base",
      "_model_module_version": "1.2.0",
      "_model_name": "LayoutModel",
      "_view_count": null,
      "_view_module": "@jupyter-widgets/base",
      "_view_module_version": "1.2.0",
      "_view_name": "LayoutView",
      "align_content": null,
      "align_items": null,
      "align_self": null,
      "border": null,
      "bottom": null,
      "display": null,
      "flex": null,
      "flex_flow": null,
      "grid_area": null,
      "grid_auto_columns": null,
      "grid_auto_flow": null,
      "grid_auto_rows": null,
      "grid_column": null,
      "grid_gap": null,
      "grid_row": null,
      "grid_template_areas": null,
      "grid_template_columns": null,
      "grid_template_rows": null,
      "height": null,
      "justify_content": null,
      "justify_items": null,
      "left": null,
      "margin": null,
      "max_height": null,
      "max_width": null,
      "min_height": null,
      "min_width": null,
      "object_fit": null,
      "object_position": null,
      "order": null,
      "overflow": null,
      "overflow_x": null,
      "overflow_y": null,
      "padding": null,
      "right": null,
      "top": null,
      "visibility": null,
      "width": null
     }
    }
   }
  }
 },
 "nbformat": 4,
 "nbformat_minor": 0
}
